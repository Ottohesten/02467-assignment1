{
 "cells": [
  {
   "cell_type": "code",
   "execution_count": 10,
   "metadata": {},
   "outputs": [],
   "source": [
    "import numpy as np\n",
    "import pandas as pd\n",
    "from bs4 import BeautifulSoup\n",
    "import requests\n",
    "import re\n",
    "import itertools\n",
    "import time\n",
    "import json\n",
    "import matplotlib.pyplot as plt\n",
    "import seaborn as sns\n",
    "import scipy.stats as st"
   ]
  },
  {
   "attachments": {},
   "cell_type": "markdown",
   "metadata": {},
   "source": [
    "# Part 1: Web scraping"
   ]
  },
  {
   "attachments": {},
   "cell_type": "markdown",
   "metadata": {},
   "source": [
    "## 2019 Oral presentations"
   ]
  },
  {
   "attachments": {},
   "cell_type": "markdown",
   "metadata": {},
   "source": [
    "To scrape a site the first step is to look at the site and its source code and look for patterns\n",
    "\n",
    "For getting the data out we use beautifulsoup which is a very comprehensive library for web scraping.\n",
    "\n",
    "Looking at the site we notice that this website is not very suited for web scraping, it uses close to none classes and ids, which is probably the most easy way to get the data you want\n",
    "\n",
    "Also there are a lot of mistakes in the overall layout that so we have to do a lot of tests for mistakes in the data we get out\n",
    "\n",
    "\n",
    "<hr>\n",
    "\n",
    "If we look at the page we notice an overall pattern that every presentation has a chair person that in the code had the \\<em> tag\n",
    "\n",
    "We can easily target these tags with beautifulsoup and then loop over the tags and get their parents"
   ]
  },
  {
   "cell_type": "code",
   "execution_count": 11,
   "metadata": {},
   "outputs": [],
   "source": [
    "\n",
    "# We define the oral pres\n",
    "\n",
    "urls = [\"https://2019.ic2s2.org/oral-presentations/\"]\n",
    "\n",
    "# we get the url\n",
    "url = urls[0]\n",
    "\n",
    "soup = BeautifulSoup(requests.get(url).text, 'html.parser')"
   ]
  },
  {
   "cell_type": "code",
   "execution_count": 12,
   "metadata": {},
   "outputs": [],
   "source": [
    "# we get all the chairs\n",
    "chairs = soup.find_all(\"em\")\n",
    "chair_names = [str(chair.text).split(\": \")[1] for chair in chairs]"
   ]
  },
  {
   "cell_type": "code",
   "execution_count": 13,
   "metadata": {},
   "outputs": [],
   "source": [
    "# We get the unique chair names\n",
    "unique_chairs = set(chair_names)"
   ]
  },
  {
   "cell_type": "code",
   "execution_count": 14,
   "metadata": {},
   "outputs": [],
   "source": [
    "# We crate an empty set to store the unique names and add the unique chairs\n",
    "total_names_oral = set()\n",
    "total_names_oral = total_names_oral.union(unique_chairs)\n"
   ]
  },
  {
   "cell_type": "code",
   "execution_count": 15,
   "metadata": {},
   "outputs": [],
   "source": [
    "# This is just here if we want to define a subset\n",
    "all_chairs = chairs[:]"
   ]
  },
  {
   "cell_type": "code",
   "execution_count": 16,
   "metadata": {},
   "outputs": [],
   "source": [
    "# This function takes some html code which is a chair parent and returns all the unique names in the given section, this we will loop over for all the chairs\n",
    "# To simplify the code we use a bit of regular expressions for splitting and filtering\n",
    "\n",
    "def return_names(chair_parent):\n",
    "    # filter out chairs\n",
    "    no_chairs = [val for val in chair_parent if \"Chair\" not in val]\n",
    "\n",
    "    # remove all elements that start with digits\n",
    "    no_start_digits = [val for val in no_chairs if not re.search(\"^\\d\", val) if not re.search(\"^(Thursday|Friday|Saturday)\", val)]\n",
    "\n",
    "\n",
    "    # we can see a pattern that the names and what they are presenting is separated by either a dot or -\n",
    "    split_list = [re.split(\"\\. | –\", val) for val in no_start_digits]\n",
    "\n",
    "\n",
    "    # This turns a 2d list into a 1d list\n",
    "    split_list_flat = list(itertools.chain.from_iterable(split_list))\n",
    " \n",
    "    # We filter out the entries that end in a digit and have the word presentation in them, as these are \"no presentation\"\n",
    "    name_strings = [val for val in split_list_flat if not re.search(\"(\\d|\\(|\\)|presentation)\", val)]\n",
    "\n",
    "\n",
    "    # We can see that some names are separated by a comma, so we split them\n",
    "    names = [re.split(\", |,\", val) for val in name_strings if len(re.split(\", |,\", val)[0].split(\" \")) < 5]\n",
    "\n",
    "\n",
    "    names_flattened = set([name for sublist in names for name in sublist])\n",
    "\n",
    "    return names_flattened\n",
    "    \n",
    "\n"
   ]
  },
  {
   "cell_type": "code",
   "execution_count": 17,
   "metadata": {},
   "outputs": [],
   "source": [
    "# This is where we loop over all the chairs\n",
    "for chair in all_chairs:\n",
    "    chair_parent = chair.parent.text.split(\" – \")\n",
    "    names = return_names(chair_parent)\n",
    "    total_names_oral = total_names_oral.union(names)\n",
    "\n",
    "    \n",
    "total_names_oral_list = list(total_names_oral)\n",
    "# total_names_list\n"
   ]
  },
  {
   "attachments": {},
   "cell_type": "markdown",
   "metadata": {},
   "source": [
    "## 2019 Poster presentations"
   ]
  },
  {
   "attachments": {},
   "cell_type": "markdown",
   "metadata": {},
   "source": [
    "The layout of this site is not the same as the other however in this case this is not bad, as the layout of this page is a lot better for scraping than the other\n",
    "\n",
    "To scrape this page we find the main content by the class <em>col-md-8 page-content-wrap<em/> and this find all the ul's (unorded lists) with all their li's (list elements)"
   ]
  },
  {
   "cell_type": "code",
   "execution_count": 18,
   "metadata": {},
   "outputs": [],
   "source": [
    "urls = [\"https://2019.ic2s2.org/posters/\"]\n",
    "\n",
    "url = urls[0]\n",
    "\n",
    "soup = BeautifulSoup(requests.get(url).text, 'html.parser')\n",
    "total_names_poster = set()"
   ]
  },
  {
   "cell_type": "code",
   "execution_count": 21,
   "metadata": {},
   "outputs": [],
   "source": [
    "\n",
    "# Get the main content div\n",
    "div = soup.find(\"div\", {\"class\": \"col-md-8 page-content-wrap\"})\n",
    "\n",
    "\n",
    "# Get all the uls\n",
    "uls = div.find_all(\"ul\")\n",
    "\n",
    "\n",
    "# We now loop over the two uls and get the li elements\n",
    "for ul in uls:\n",
    "    lis = ul.find_all(\"li\")\n",
    "    for li in lis:\n",
    "        name_string = li.contents[0].text\n",
    "        # WE use some regular expression to split the string\n",
    "        if re.search(\"(\\d|\\(|\\)|:|–)\", name_string):\n",
    "            # print(name_string)\n",
    "            continue\n",
    "        names = re.split(\", |,| and \", name_string)\n",
    "        # print(names)\n",
    "        total_names_poster = total_names_poster.union(names)"
   ]
  },
  {
   "cell_type": "code",
   "execution_count": 22,
   "metadata": {},
   "outputs": [
    {
     "name": "stdout",
     "output_type": "stream",
     "text": [
      "length of combined list: 946\n"
     ]
    }
   ],
   "source": [
    "# The total names is then just the union of the two sets\n",
    "\n",
    "names_combined = total_names_oral.union(total_names_poster)\n",
    "names_combined_list = list(names_combined)\n",
    "\n",
    "print(f\"length of combined list: {len(names_combined_list)}\")"
   ]
  },
  {
   "attachments": {},
   "cell_type": "markdown",
   "metadata": {},
   "source": [
    "# Part 2: Semantic Scholar API"
   ]
  },
  {
   "attachments": {},
   "cell_type": "markdown",
   "metadata": {},
   "source": [
    "## Get all Author ids"
   ]
  },
  {
   "cell_type": "code",
   "execution_count": 98,
   "metadata": {},
   "outputs": [
    {
     "data": {
      "text/plain": [
       "'https://api.semanticscholar.org/graph/v1/author/search'"
      ]
     },
     "execution_count": 98,
     "metadata": {},
     "output_type": "execute_result"
    }
   ],
   "source": [
    "BASE_URL = \"https://api.semanticscholar.org/graph/\"\n",
    "VERSION = \"v1/\"\n",
    "RESOURCE = \"author/search\"\n",
    "\n",
    "complete_url = BASE_URL + VERSION + RESOURCE\n",
    "\n",
    "complete_url"
   ]
  },
  {
   "cell_type": "code",
   "execution_count": null,
   "metadata": {},
   "outputs": [],
   "source": [
    "def get_all_authorids(author_data):\n",
    "    original_author = author_data[\"authorId\"]\n",
    "    author_ids = [original_author]\n",
    "    print(original_author)\n",
    "    for paper in author_data[\"papers\"]:\n",
    "        for author in paper[\"authors\"]:\n",
    "            author_ids.append(author[\"authorId\"])\n",
    "    return set(author_ids), original_author"
   ]
  },
  {
   "cell_type": "code",
   "execution_count": null,
   "metadata": {},
   "outputs": [],
   "source": [
    "all_author_ids_set = set()\n",
    "original_authors = []\n",
    "for name in list(names_combined):\n",
    "    params = {\n",
    "        \"query\": name,\n",
    "        \"fields\": \"name,papers.authors\",\n",
    "    }\n",
    "    time.sleep(3)\n",
    "    response = requests.get(complete_url, params=params)\n",
    "    response_json = response.json()\n",
    "    if \"data\" not in response_json:\n",
    "        continue\n",
    "    if len(response_json[\"data\"]) == 0:\n",
    "        continue\n",
    "    first_entry = response_json[\"data\"][0]\n",
    "    author_ids, original_author = get_all_authorids(first_entry)\n",
    "    all_author_ids_set = all_author_ids_set.union(author_ids)\n",
    "    original_authors.append(original_author)\n",
    "    # print(author_ids)\n",
    "    # print(\"\\n\")"
   ]
  },
  {
   "cell_type": "code",
   "execution_count": null,
   "metadata": {},
   "outputs": [],
   "source": [
    "df = pd.DataFrame(list(all_author_ids_set))\n",
    "og_df = pd.DataFrame({\"author_id\": list(original_authors)})"
   ]
  },
  {
   "cell_type": "code",
   "execution_count": null,
   "metadata": {},
   "outputs": [],
   "source": [
    "df.to_csv(\"author_ids.csv\", index=False)\n",
    "og_df.to_csv(\"original_author_ids.csv\", index=False)"
   ]
  },
  {
   "cell_type": "code",
   "execution_count": 23,
   "metadata": {},
   "outputs": [],
   "source": [
    "# read in the data\n",
    "# df = pd.read_csv(\"author_ids.csv\")\n",
    "# og_df = pd.read_csv(\"original_author_ids.csv\")\n",
    "\n"
   ]
  },
  {
   "attachments": {},
   "cell_type": "markdown",
   "metadata": {},
   "source": [
    "## Get Author papers"
   ]
  },
  {
   "attachments": {},
   "cell_type": "markdown",
   "metadata": {},
   "source": [
    "We will only be using the original authors from the 2019 IC2S2 the next section, what i mean by that is that i am not using the dataset i collected with all the collarborators as well as this dataset is about 30000 authors while the original ones are about 900. The reasoning behind this is that for some reason the batch api endpoint was not working for me, so i could not get the data for the authors in batches of 1000, and therefore have to get the data from each author separately, which means i will have to 1 api call for each author, and there is a rate limit of 100 requests per 5 min, which means if i had to do it with all 30000 if would take me 1500 minutes, which is about a half day of doing api calls"
   ]
  },
  {
   "cell_type": "code",
   "execution_count": null,
   "metadata": {},
   "outputs": [],
   "source": [
    "# read in data from csv\n",
    "author_ids_df = pd.read_csv(\"original_author_ids.csv\")\n",
    "author_ids_list = author_ids_df.iloc[:,0].tolist() # we turn it into a list"
   ]
  },
  {
   "cell_type": "code",
   "execution_count": null,
   "metadata": {},
   "outputs": [],
   "source": [
    "BASE_URL = \"https://api.semanticscholar.org/graph/\"\n",
    "VERSION = \"v1/\"\n",
    "RESOURCE = \"author/\"\n",
    "\n",
    "complete_url = BASE_URL + VERSION + RESOURCE\n",
    "\n",
    "complete_url"
   ]
  },
  {
   "cell_type": "code",
   "execution_count": 89,
   "metadata": {},
   "outputs": [],
   "source": [
    "def get_categories(paper):\n",
    "    categories = set()\n",
    "    for category in paper[\"s2FieldsOfStudy\"]:\n",
    "        categories.add(category[\"category\"])\n",
    "    return categories\n",
    "\n",
    "def get_all_categories(papers):\n",
    "    categories = set()\n",
    "    for paper in papers:\n",
    "        for category in paper[\"s2FieldsOfStudy\"]:\n",
    "            categories.add(category[\"category\"])\n",
    "    return categories\n",
    "\n",
    "\n",
    "def get_field_of_study(papers):\n",
    "    categories = []\n",
    "    for paper in papers:\n",
    "        for category in paper[\"s2FieldsOfStudy\"]:\n",
    "            categories.append(category[\"category\"])\n",
    "    # get the most common category\n",
    "    return max(set(categories), key=categories.count, default=None)\n",
    "\n",
    "def get_paper_author_ids(paper):\n",
    "    author_ids = []\n",
    "    for author in paper[\"authors\"]:\n",
    "        author_ids.append(author[\"authorId\"])\n",
    "    return author_ids\n",
    "\n",
    "# The dataframes\n",
    "\n",
    "# Author dataframe with authorId, name, aliases, citationCount, s2FieldsOfStudy\n",
    "author_df = pd.DataFrame(columns=[\"authorId\", \"name\", \"aliases\", \"citationCount\", \"s2FieldsOfStudy\"])\n",
    "\n",
    "# Paper dataframe with paparid, title, year, externalid, citationCount, s2FieldsOfStudy, authorids\n",
    "paper_df = pd.DataFrame(columns=[\"paperId\", \"title\", \"year\", \"externalId\", \"citationCount\", \"s2FieldsOfStudy\", \"authorIds\"])\n",
    "\n",
    "# paper abstract dataframe with paperid, abstract\n",
    "paper_abstract_df = pd.DataFrame(columns=[\"paperId\", \"abstract\"])\n"
   ]
  },
  {
   "cell_type": "code",
   "execution_count": 90,
   "metadata": {},
   "outputs": [],
   "source": [
    "for author_id in author_ids_list:\n",
    "    params = {\n",
    "        \"fields\": \"name,aliases,citationCount,papers,papers.title,papers.abstract,papers.year,papers.externalIds,papers.s2FieldsOfStudy,papers.citationCount,papers.authors\",\n",
    "    }\n",
    "    time.sleep(3)\n",
    "    response = requests.get(complete_url+str(author_id), params=params)\n",
    "    # print(response)\n",
    "    response_json = response.json()\n",
    "    # print(response_json)\n",
    "    # print(\"\\n\")\n",
    "    \n",
    "    # Make the auther dict to be added to the author dataframe\n",
    "    try:\n",
    "        author_dict = {\"authorId\": author_id, \"name\": response_json[\"name\"], \"aliases\": response_json[\"aliases\"], \"citationCount\": response_json[\"citationCount\"], \"s2FieldsOfStudy\": get_field_of_study(response_json[\"papers\"])}\n",
    "\n",
    "        # concat to author dataframe\n",
    "        author_df = pd.concat([author_df, pd.DataFrame([author_dict])], ignore_index=True)\n",
    "    except KeyError:\n",
    "        continue\n",
    "\n",
    "    # loop over all the papers\n",
    "    for paper in response_json[\"papers\"]:\n",
    "        paper_dict = {\"paperId\": paper[\"paperId\"], \"title\": paper[\"title\"], \"year\": paper[\"year\"], \"externalId\": paper[\"externalIds\"][\"DOI\"] if \"DOI\" in paper[\"externalIds\"] else None, \"citationCount\": paper[\"citationCount\"], \"s2FieldsOfStudy\": list(get_categories(paper)), \"authorIds\": get_paper_author_ids(paper)}\n",
    "\n",
    "        # Concat to paper dataframe\n",
    "        paper_df = pd.concat([paper_df, pd.DataFrame([paper_dict])], ignore_index=True)\n",
    "\n",
    "        paper_abstract_dict = {\"paperId\": paper[\"paperId\"], \"abstract\": paper[\"abstract\"]}\n",
    "\n",
    "        # Concat to paper abstract dataframe\n",
    "        paper_abstract_df = pd.concat([paper_abstract_df, pd.DataFrame([paper_abstract_dict])], ignore_index=True)\n",
    "\n",
    "\n",
    "\n",
    "\n"
   ]
  },
  {
   "cell_type": "code",
   "execution_count": 97,
   "metadata": {},
   "outputs": [],
   "source": [
    "# export the 3 dataframes to csv\n",
    "author_df.to_csv(\"author_df.csv\", index=False)\n",
    "paper_df.to_csv(\"paper_df.csv\", index=False)\n",
    "paper_abstract_df.to_csv(\"paper_abstract_df.csv\", index=False)"
   ]
  },
  {
   "cell_type": "code",
   "execution_count": 40,
   "metadata": {},
   "outputs": [],
   "source": [
    "# read in the data if we need to\n",
    "author_df = pd.read_csv(\"author_df.csv\")\n",
    "paper_df = pd.read_csv(\"paper_df.csv\")\n",
    "paper_abstract_df = pd.read_csv(\"paper_abstract_df.csv\")"
   ]
  },
  {
   "attachments": {},
   "cell_type": "markdown",
   "metadata": {},
   "source": [
    "# Part 3: Law of large numbers"
   ]
  },
  {
   "attachments": {},
   "cell_type": "markdown",
   "metadata": {},
   "source": [
    "## Gaussian Distribution"
   ]
  },
  {
   "cell_type": "code",
   "execution_count": 41,
   "metadata": {},
   "outputs": [],
   "source": [
    "# 1\n",
    "# Create random variable X with mean 0 and standard deviation 4 containing 10000 values\n",
    "mu = 0\n",
    "sigma = 4\n",
    "N = 10000\n",
    "X = np.random.normal(mu, sigma, N)"
   ]
  },
  {
   "cell_type": "code",
   "execution_count": 58,
   "metadata": {},
   "outputs": [
    {
     "data": {
      "image/png": "[encoded data removed]",
      "text/plain": [
       "<Figure size 432x288 with 1 Axes>"
      ]
     },
     "metadata": {
      "needs_background": "light"
     },
     "output_type": "display_data"
    }
   ],
   "source": [
    "# 2\n",
    "# We plot the distribution\n",
    "plt.hist(X, bins=100, density=True)\n",
    "plt.title(\"Gaussian distribution\")\n",
    "plt.show()"
   ]
  },
  {
   "cell_type": "code",
   "execution_count": 43,
   "metadata": {},
   "outputs": [
    {
     "data": {
      "text/html": [
       "<div>\n",
       "<style scoped>\n",
       "    .dataframe tbody tr th:only-of-type {\n",
       "        vertical-align: middle;\n",
       "    }\n",
       "\n",
       "    .dataframe tbody tr th {\n",
       "        vertical-align: top;\n",
       "    }\n",
       "\n",
       "    .dataframe thead th {\n",
       "        text-align: right;\n",
       "    }\n",
       "</style>\n",
       "<table border=\"1\" class=\"dataframe\">\n",
       "  <thead>\n",
       "    <tr style=\"text-align: right;\">\n",
       "      <th></th>\n",
       "      <th>X</th>\n",
       "    </tr>\n",
       "  </thead>\n",
       "  <tbody>\n",
       "    <tr>\n",
       "      <th>0</th>\n",
       "      <td>-3.539353</td>\n",
       "    </tr>\n",
       "    <tr>\n",
       "      <th>1</th>\n",
       "      <td>-4.397233</td>\n",
       "    </tr>\n",
       "    <tr>\n",
       "      <th>2</th>\n",
       "      <td>-4.532112</td>\n",
       "    </tr>\n",
       "    <tr>\n",
       "      <th>3</th>\n",
       "      <td>-2.343664</td>\n",
       "    </tr>\n",
       "    <tr>\n",
       "      <th>4</th>\n",
       "      <td>-2.409501</td>\n",
       "    </tr>\n",
       "    <tr>\n",
       "      <th>...</th>\n",
       "      <td>...</td>\n",
       "    </tr>\n",
       "    <tr>\n",
       "      <th>9995</th>\n",
       "      <td>0.043707</td>\n",
       "    </tr>\n",
       "    <tr>\n",
       "      <th>9996</th>\n",
       "      <td>0.044366</td>\n",
       "    </tr>\n",
       "    <tr>\n",
       "      <th>9997</th>\n",
       "      <td>0.044554</td>\n",
       "    </tr>\n",
       "    <tr>\n",
       "      <th>9998</th>\n",
       "      <td>0.044298</td>\n",
       "    </tr>\n",
       "    <tr>\n",
       "      <th>9999</th>\n",
       "      <td>0.043994</td>\n",
       "    </tr>\n",
       "  </tbody>\n",
       "</table>\n",
       "<p>10000 rows × 1 columns</p>\n",
       "</div>"
      ],
      "text/plain": [
       "             X\n",
       "0    -3.539353\n",
       "1    -4.397233\n",
       "2    -4.532112\n",
       "3    -2.343664\n",
       "4    -2.409501\n",
       "...        ...\n",
       "9995  0.043707\n",
       "9996  0.044366\n",
       "9997  0.044554\n",
       "9998  0.044298\n",
       "9999  0.043994\n",
       "\n",
       "[10000 rows x 1 columns]"
      ]
     },
     "execution_count": 43,
     "metadata": {},
     "output_type": "execute_result"
    }
   ],
   "source": [
    "# 3\n",
    "# Compute cumulative average of X\n",
    "cum_avg = np.cumsum(X) / (np.arange(N) + 1)\n",
    "\n",
    "\n",
    "# Cumulative average of X using pandas as this become handy when calculating the cumulative std\n",
    "X_df = pd.DataFrame({\"X\": X})\n",
    "cum_avg_df = X_df.expanding().mean()\n",
    "cum_avg_df"
   ]
  },
  {
   "cell_type": "code",
   "execution_count": 44,
   "metadata": {},
   "outputs": [],
   "source": [
    "# 4\n",
    "# Cumulative standard error of the mean (sem) of X\n",
    "cum_sem = X_df.expanding().sem()\n",
    "cum_sem[\"X\"][0] = 0"
   ]
  },
  {
   "cell_type": "code",
   "execution_count": 45,
   "metadata": {},
   "outputs": [
    {
     "name": "stdout",
     "output_type": "stream",
     "text": [
      "Mean of X:  0.043993576757795826\n",
      "Median of X:  0.08331707632490105\n"
     ]
    }
   ],
   "source": [
    "# 5\n",
    "# We can use python to calculate the mean and median of X\n",
    "\n",
    "print(\"Mean of X: \", np.mean(X))\n",
    "print(\"Median of X: \", np.median(X))\n",
    "\n",
    "# By the law of large numbers as the size N of the sample increases the mean of the sample approaches the mean of the population which should be 0\n",
    "\n"
   ]
  },
  {
   "cell_type": "code",
   "execution_count": 46,
   "metadata": {},
   "outputs": [
    {
     "data": {
      "image/png": "[encoded data removed]",
      "text/plain": [
       "<Figure size 432x288 with 1 Axes>"
      ]
     },
     "metadata": {
      "needs_background": "light"
     },
     "output_type": "display_data"
    }
   ],
   "source": [
    "# 6\n",
    "plt.plot(cum_avg_df, label=\"Cumulative average\")\n",
    "plt.title(\"Cumulative average\")\n",
    "plt.grid()\n",
    "\n",
    "\n",
    "# errorbar with cum_sem as error bars\n",
    "plt.errorbar(cum_avg_df.loc[0:10000, \"X\"].index, cum_avg_df.loc[0:10000, \"X\"], yerr=cum_sem.loc[0:10000, \"X\"], label=\"Cumulative average\")\n",
    "\n",
    "# horizontal line at mean\n",
    "plt.axhline(y=np.mean(X), color=\"g\", linestyle=\"-\", label=\"Mean\")\n",
    "\n",
    "plt.legend()\n",
    "plt.show()\n",
    "\n"
   ]
  },
  {
   "cell_type": "code",
   "execution_count": 47,
   "metadata": {},
   "outputs": [],
   "source": [
    "# 7\n",
    "# Cumulative median of X\n",
    "cum_med_df = X_df.expanding().median()"
   ]
  },
  {
   "cell_type": "code",
   "execution_count": 48,
   "metadata": {},
   "outputs": [
    {
     "data": {
      "image/png": "[encoded data removed]",
      "text/plain": [
       "<Figure size 432x288 with 1 Axes>"
      ]
     },
     "metadata": {
      "needs_background": "light"
     },
     "output_type": "display_data"
    }
   ],
   "source": [
    "# 8\n",
    "plt.plot(cum_med_df, label=\"Cumulative median\")\n",
    "plt.title(\"Cumulative median\")\n",
    "plt.grid()\n",
    "\n",
    "# horizontal line at median\n",
    "plt.axhline(y=np.median(X), color=\"g\", linestyle=\"-\", label=\"Median\")\n",
    "plt.legend()\n",
    "plt.show()"
   ]
  },
  {
   "cell_type": "code",
   "execution_count": 49,
   "metadata": {},
   "outputs": [],
   "source": [
    "# We create 1 function to calculate all the previous values in one go\n",
    "\n",
    "def calculate_cumulative_stats(X):\n",
    "    # Create dataframe from X\n",
    "    X_df = pd.DataFrame({\"X\": X})\n",
    "\n",
    "\n",
    "    # Histogram plot\n",
    "    plt.figure(1)\n",
    "    plt.hist(X, bins=100, density=True)\n",
    "    plt.title(\"Histogram of X\")\n",
    "    \n",
    "    plt.show()\n",
    "\n",
    "    # Cumulative average of X\n",
    "    cum_avg_df = X_df.expanding().mean()\n",
    "\n",
    "    # Cumulative standard error of the mean (sem) of X\n",
    "    cum_sem = X_df.expanding().sem()\n",
    "    cum_sem[\"X\"][0] = 0\n",
    "\n",
    "    # Cumulative median of X\n",
    "    cum_med_df = X_df.expanding().median()\n",
    "\n",
    "    # Plots\n",
    "    # Cumulative average of X\n",
    "    plt.figure(2)\n",
    "    plt.plot(cum_avg_df, label=\"Cumulative average\")\n",
    "    plt.title(\"Cumulative average\")\n",
    "    plt.grid()\n",
    "\n",
    "\n",
    "    # errorbar with cum_sem as error bars\n",
    "    plt.errorbar(cum_avg_df.loc[0:10000, \"X\"].index, cum_avg_df.loc[0:10000, \"X\"], yerr=cum_sem.loc[0:10000, \"X\"], label=\"Cumulative average\")\n",
    "\n",
    "    # horizontal line at mean\n",
    "    plt.axhline(y=np.mean(X), color=\"g\", linestyle=\"-\", label=\"Mean\")\n",
    "\n",
    "    plt.legend()\n",
    "    plt.show()\n",
    "    \n",
    "\n",
    "    plt.figure(3)\n",
    "    # cumulative median of X\n",
    "    plt.plot(cum_med_df, label=\"Cumulative median\")\n",
    "    plt.title(\"Cumulative median\")\n",
    "    plt.grid()\n",
    "\n",
    "    # horizontal line at median\n",
    "    plt.axhline(y=np.median(X), color=\"g\", linestyle=\"-\", label=\"Median\")\n",
    "    plt.legend()\n",
    "    plt.show()\n",
    "\n",
    "    return cum_avg_df, cum_sem, cum_med_df\n"
   ]
  },
  {
   "attachments": {},
   "cell_type": "markdown",
   "metadata": {},
   "source": [
    "## Pareto Distribution"
   ]
  },
  {
   "cell_type": "code",
   "execution_count": 50,
   "metadata": {},
   "outputs": [],
   "source": [
    "xm = 1\n",
    "alpha = 0.5\n",
    "N = 10000\n",
    "\n",
    "\n",
    "# sample from pareto distribution\n",
    "P = np.random.pareto(alpha, N) + xm\n",
    "\n"
   ]
  },
  {
   "cell_type": "code",
   "execution_count": 51,
   "metadata": {},
   "outputs": [
    {
     "name": "stdout",
     "output_type": "stream",
     "text": [
      "Mean of P:  3876.6348472927416\n"
     ]
    }
   ],
   "source": [
    "np.mean(P)\n",
    "\n",
    "# mean of both P and P_scipy\n",
    "print(\"Mean of P: \", np.mean(P))\n"
   ]
  },
  {
   "cell_type": "code",
   "execution_count": 52,
   "metadata": {},
   "outputs": [
    {
     "name": "stdout",
     "output_type": "stream",
     "text": [
      "P_mean=-1.0 - P_med=4.0\n",
      "From distribution:\n",
      "np.mean(P)=3876.6348472927416 - np.median(P)=3.892693642721163\n"
     ]
    }
   ],
   "source": [
    "# mean from formula\n",
    "P_mean = alpha* xm /(alpha-1)\n",
    "\n",
    "# median from formula\n",
    "P_med = xm*2**(1/alpha)\n",
    "\n",
    "print(f\"{P_mean=} - {P_med=}\")\n",
    "print(\"From distribution:\")\n",
    "print(f\"{np.mean(P)=} - {np.median(P)=}\")\n",
    "\n"
   ]
  },
  {
   "cell_type": "code",
   "execution_count": 53,
   "metadata": {},
   "outputs": [
    {
     "data": {
      "image/png": "[encoded data removed]",
      "text/plain": [
       "<Figure size 432x288 with 1 Axes>"
      ]
     },
     "metadata": {
      "needs_background": "light"
     },
     "output_type": "display_data"
    },
    {
     "data": {
      "image/png": "[encoded data removed]",
      "text/plain": [
       "<Figure size 432x288 with 1 Axes>"
      ]
     },
     "metadata": {
      "needs_background": "light"
     },
     "output_type": "display_data"
    },
    {
     "data": {
      "image/png": "[encoded data removed]",
      "text/plain": [
       "<Figure size 432x288 with 1 Axes>"
      ]
     },
     "metadata": {
      "needs_background": "light"
     },
     "output_type": "display_data"
    }
   ],
   "source": [
    "pareto_cum_avg_df, pareto_cum_sem, pareto_cum_med_df = calculate_cumulative_stats(P)"
   ]
  },
  {
   "attachments": {},
   "cell_type": "markdown",
   "metadata": {},
   "source": [
    "## Lognormal Distribution"
   ]
  },
  {
   "cell_type": "code",
   "execution_count": 54,
   "metadata": {},
   "outputs": [],
   "source": [
    "mu, sigma = 0, 4\n",
    "\n",
    "# lognormal\n",
    "\n",
    "# sample from lognormal distribution\n",
    "L = np.random.lognormal(mu, sigma, N)"
   ]
  },
  {
   "cell_type": "code",
   "execution_count": 55,
   "metadata": {},
   "outputs": [
    {
     "data": {
      "image/png": "[encoded data removed]",
      "text/plain": [
       "<Figure size 432x288 with 1 Axes>"
      ]
     },
     "metadata": {
      "needs_background": "light"
     },
     "output_type": "display_data"
    },
    {
     "data": {
      "image/png": "[encoded data removed]",
      "text/plain": [
       "<Figure size 432x288 with 1 Axes>"
      ]
     },
     "metadata": {
      "needs_background": "light"
     },
     "output_type": "display_data"
    },
    {
     "data": {
      "image/png": "[encoded data removed]",
      "text/plain": [
       "<Figure size 432x288 with 1 Axes>"
      ]
     },
     "metadata": {
      "needs_background": "light"
     },
     "output_type": "display_data"
    }
   ],
   "source": [
    "lognorm_cum_avg_df, lognorm_cum_sem, lognorm_cum_med_df = calculate_cumulative_stats(L)"
   ]
  },
  {
   "attachments": {},
   "cell_type": "markdown",
   "metadata": {},
   "source": [
    "## Citation distribution"
   ]
  },
  {
   "cell_type": "code",
   "execution_count": 56,
   "metadata": {},
   "outputs": [],
   "source": [
    "# First we get the all the citation counts for all the papers from 2009\n",
    "citation_counts = paper_df[paper_df[\"year\"] == 2009][\"citationCount\"].values"
   ]
  },
  {
   "cell_type": "code",
   "execution_count": 57,
   "metadata": {},
   "outputs": [
    {
     "name": "stdout",
     "output_type": "stream",
     "text": [
      "shape of citation_counts: (1030,)\n",
      "shape of citations_counts_sample: (10000,)\n"
     ]
    },
    {
     "data": {
      "image/png": "[encoded data removed]",
      "text/plain": [
       "<Figure size 432x288 with 1 Axes>"
      ]
     },
     "metadata": {
      "needs_background": "light"
     },
     "output_type": "display_data"
    },
    {
     "data": {
      "image/png": "[encoded data removed]",
      "text/plain": [
       "<Figure size 432x288 with 1 Axes>"
      ]
     },
     "metadata": {
      "needs_background": "light"
     },
     "output_type": "display_data"
    },
    {
     "data": {
      "image/png": "[encoded data removed]",
      "text/plain": [
       "<Figure size 432x288 with 1 Axes>"
      ]
     },
     "metadata": {
      "needs_background": "light"
     },
     "output_type": "display_data"
    }
   ],
   "source": [
    "print(f\"shape of citation_counts: {citation_counts.shape}\")\n",
    "\n",
    "# we only have 1000 papers from 2009 so we will instead sample from the whole dataframe\n",
    "\n",
    "\n",
    "C = paper_df[\"citationCount\"].sample(n=N).values\n",
    "\n",
    "print(f\"shape of citations_counts_sample: {C.shape}\")\n",
    "\n",
    "\n",
    "\n",
    "C_cum_avg_df, C_cum_sem, C_cum_med_df = calculate_cumulative_stats(C)\n",
    "\n"
   ]
  },
  {
   "attachments": {},
   "cell_type": "markdown",
   "metadata": {},
   "source": [
    "When we look at the many different plots we notice a common trend between the pareto, lognormal and citation distribution. This is they are highly influenced by outliers.\n",
    "\n",
    "All 3 distribution plots show that they spike at one value, for the pareto distribution this is because the mean of the distribution for alpha less than 0 is $\\inf$. If we inspect the actual mean of the 10000 samples we find that the mean if very different each time we run the code, where most samples are maybe in the range 0-100 while some are ridiciously high in the order of $10^8$ This makes sense as the pareto distribution is known as the 80-20% distribution, where 20% of the sample is responsible for 80% of the outcomes, so in this case, 20% of the 10000 samples are responsible for 80% of the total sum\n",
    "\n",
    "\n",
    "If we look at the cumulative average for the different distributions we see even though the error is wildly different for the different distributions, they all seem to converge around the sample as we would expect. This is due the the law of long run probabilities / law or large numbers. As the sample size increases we would expect the sample mean to converge towards the actual mean\n",
    "\n",
    "\n",
    "<hr>\n",
    "\n",
    "Quite interesting is the difference between the cumulative average and the cumulative median, in most of the cases i would actually say the cumulative median is better as the errors seem to be quite a bit lower\n",
    "\n",
    "\n",
    "I think the main takeaway from this exercise is generally we want to have as big a sample size as we can. In the real world this would mean to have as much data as possible. And we actually also see signs of this in the real world, in big companies that live on gathering and selling data, such as facebook, google etc. Pretty much any service on the internet that is offered free of charge it is because they are mining data and selling it, because it is so valuable\n"
   ]
  },
  {
   "cell_type": "code",
   "execution_count": null,
   "metadata": {},
   "outputs": [],
   "source": []
  }
 ],
 "metadata": {
  "kernelspec": {
   "display_name": "Python 3",
   "language": "python",
   "name": "python3"
  },
  "language_info": {
   "codemirror_mode": {
    "name": "ipython",
    "version": 3
   },
   "file_extension": ".py",
   "mimetype": "text/x-python",
   "name": "python",
   "nbconvert_exporter": "python",
   "pygments_lexer": "ipython3",
   "version": "3.10.6"
  },
  "orig_nbformat": 4,
  "vscode": {
   "interpreter": {
    "hash": "8203f0e0483fa59486bdc2d9f81d4312248cbb7c7b7650fcc48de869a98be164"
   }
  }
 },
 "nbformat": 4,
 "nbformat_minor": 2
}
